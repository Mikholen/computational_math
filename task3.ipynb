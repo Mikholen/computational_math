{
 "cells": [
  {
   "cell_type": "code",
   "execution_count": 1,
   "metadata": {},
   "outputs": [],
   "source": [
    "import matplotlib.pyplot as plt\n",
    "import numpy  as np"
   ]
  },
  {
   "cell_type": "markdown",
   "metadata": {},
   "source": [
    "### Решение нелинейных уравнений. Метод Ньютона. Метод секущих. Метод хорд"
   ]
  },
  {
   "cell_type": "code",
   "execution_count": 37,
   "metadata": {},
   "outputs": [],
   "source": [
    "def function_1(x):\n",
    "    return (x - 3)**3\n",
    "\n",
    "def diff_func_1(x):\n",
    "    return 3 * (x - 3)**2\n",
    "\n",
    "def function_2(x):\n",
    "    return x**3 + 1\n",
    "\n",
    "def diff_func_2(x):\n",
    "    return 3*x**2\n",
    "\n",
    "def function_3(x):\n",
    "    return x*x - 2*x + 1\n",
    "\n",
    "def diff_func_3(x):\n",
    "    return 2*x - 2"
   ]
  },
  {
   "cell_type": "code",
   "execution_count": 22,
   "metadata": {},
   "outputs": [],
   "source": [
    "left_1, right_1 = 1.1, 4.2\n",
    "left_2, right_2 = -4.1, -0.8\n",
    "left_3, right_3 = 0.9, 2\n",
    "epsilon = 0.001"
   ]
  },
  {
   "cell_type": "code",
   "execution_count": 38,
   "metadata": {},
   "outputs": [],
   "source": [
    "def Newton_method(left, right, epsilon, function, diff_func):\n",
    "    x_n = right - left\n",
    "    x_n_1 = x_n + 2*epsilon\n",
    "    while (abs(x_n_1 - x_n) > epsilon):\n",
    "        x_n = x_n_1\n",
    "        x_n_1 = x_n - function(x_n) / diff_func(x_n)\n",
    "        # Определение кратности корня\n",
    "        delta_n = abs(x_n_1 - x_n)\n",
    "        delta_n_1 = delta_n - function(x_n_1) / diff_func(x_n_1)\n",
    "        k = delta_n / delta_n_1\n",
    "\n",
    "    print('Метод Ньютона')\n",
    "    print(f'Корень: {x_n_1:.5f}, ', f'кратности: {k:.5f}')\n",
    "    print(f'Расчитан с точностью: {abs(x_n_1 - x_n):.5f} \\n')\n",
    "\n",
    "def Secant_method(left, right, epsilon, function, diff_func):\n",
    "    x_0 = right - left\n",
    "    x_n = right - left\n",
    "    x_n_1 = x_n + 2*epsilon\n",
    "    while (abs(x_n_1 - x_n) > epsilon):\n",
    "        x_n = x_n_1\n",
    "        x_n_1 = x_n - function(x_n) / diff_func(x_0)\n",
    "\n",
    "    print('Метод Секущих')\n",
    "    print(f'Корень: {x_n_1:.5f}')\n",
    "    print(f'Расчитан с точностью: {abs(x_n_1 - x_n):.5f} \\n')\n",
    "\n",
    "\n",
    "def Chord_method(left, right, epsilon, function, diff_func):\n",
    "    x_0 = right - left\n",
    "    x_n = right - left\n",
    "    x_n_1 = x_n + 2*epsilon\n",
    "    while (abs(x_n_1 - x_n) > epsilon):\n",
    "        x_n = x_n_1\n",
    "        x_n_1 = x_n - function(x_n) * (x_n - x_0) / (function(x_n) - function(x_0))\n",
    "\n",
    "    print('Метод Хорд')\n",
    "    print(f'Корень: {x_n_1:.5f}')\n",
    "    print(f'Расчитан с точностью: {abs(x_n_1 - x_n):.5f} \\n')\n",
    "    "
   ]
  },
  {
   "cell_type": "markdown",
   "metadata": {},
   "source": [
    "### Функция 1\n",
    "$$ f = (x - 3) ^ 3 $$"
   ]
  },
  {
   "cell_type": "code",
   "execution_count": 42,
   "metadata": {},
   "outputs": [
    {
     "name": "stdout",
     "output_type": "stream",
     "text": [
      "Метод Ньютона\n",
      "Корень: 3.00177,  кратности: 3.00000\n",
      "Расчитан с точностью: 0.00088 \n",
      "\n",
      "Метод Секущих\n",
      "Корень: 3.03000\n",
      "Расчитан с точностью: 0.00099 \n",
      "\n",
      "Метод Хорд\n",
      "Корень: 3.02188\n",
      "Расчитан с точностью: 0.00093 \n",
      "\n"
     ]
    }
   ],
   "source": [
    "Newton_method(left_1, right_1, epsilon, function_1, diff_func_1)\n",
    "Secant_method(left_1, right_1, epsilon, function_1, diff_func_1)\n",
    "Chord_method(left_1, right_1, epsilon, function_1, diff_func_1)"
   ]
  },
  {
   "cell_type": "markdown",
   "metadata": {},
   "source": [
    "### Функция 2\n",
    "$$ f = (x + 2)^2 $$"
   ]
  },
  {
   "cell_type": "code",
   "execution_count": 43,
   "metadata": {},
   "outputs": [
    {
     "name": "stdout",
     "output_type": "stream",
     "text": [
      "Метод Ньютона\n",
      "Корень: -1.00000,  кратности: 1.00000\n",
      "Расчитан с точностью: 0.00000 \n",
      "\n",
      "Метод Секущих\n",
      "Корень: -0.99001\n",
      "Расчитан с точностью: 0.00100 \n",
      "\n",
      "Метод Хорд\n",
      "Корень: -0.99871\n",
      "Расчитан с точностью: 0.00069 \n",
      "\n"
     ]
    }
   ],
   "source": [
    "Newton_method(left_2, right_2, epsilon, function_2, diff_func_2)\n",
    "Secant_method(left_2, right_2, epsilon, function_2, diff_func_2)\n",
    "Chord_method(left_2, right_2, epsilon, function_2, diff_func_2)"
   ]
  },
  {
   "cell_type": "markdown",
   "metadata": {},
   "source": [
    "### Функция 3\n",
    "$$ f = x^2 -2x + 1 $$"
   ]
  },
  {
   "cell_type": "code",
   "execution_count": 44,
   "metadata": {},
   "outputs": [
    {
     "name": "stdout",
     "output_type": "stream",
     "text": [
      "Метод Ньютона\n",
      "Корень: 1.00080,  кратности: 2.00000\n",
      "Расчитан с точностью: 0.00080 \n",
      "\n",
      "Метод Секущих\n",
      "Корень: 1.01292\n",
      "Расчитан с точностью: 0.00096 \n",
      "\n",
      "Метод Хорд\n",
      "Корень: 1.00911\n",
      "Расчитан с точностью: 0.00091 \n",
      "\n"
     ]
    }
   ],
   "source": [
    "Newton_method(left_3, right_3, epsilon, function_3, diff_func_3)\n",
    "Secant_method(left_3, right_3, epsilon, function_3, diff_func_3)\n",
    "Chord_method(left_3, right_3, epsilon, function_3, diff_func_3)"
   ]
  }
 ],
 "metadata": {
  "kernelspec": {
   "display_name": "Python 3",
   "language": "python",
   "name": "python3"
  },
  "language_info": {
   "codemirror_mode": {
    "name": "ipython",
    "version": 3
   },
   "file_extension": ".py",
   "mimetype": "text/x-python",
   "name": "python",
   "nbconvert_exporter": "python",
   "pygments_lexer": "ipython3",
   "version": "3.11.5"
  },
  "orig_nbformat": 4
 },
 "nbformat": 4,
 "nbformat_minor": 2
}
