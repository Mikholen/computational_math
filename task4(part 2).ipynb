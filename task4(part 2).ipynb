{
 "cells": [
  {
   "cell_type": "code",
   "execution_count": 50,
   "metadata": {},
   "outputs": [],
   "source": [
    "import numpy as np"
   ]
  },
  {
   "cell_type": "code",
   "execution_count": 51,
   "metadata": {},
   "outputs": [
    {
     "name": "stdout",
     "output_type": "stream",
     "text": [
      "[[10.      0.0475  0.      0.    ]\n",
      " [ 0.03    9.      0.05    0.    ]\n",
      " [ 0.      0.04    9.      0.06  ]\n",
      " [ 0.      0.      0.04    8.    ]] \n",
      " b = [9, 10, 11, 12]\n"
     ]
    }
   ],
   "source": [
    "a = np.array([10, 0.0475, 0, 0, 0.03, 9, 0.05, 0, 0, 0.04, 9.0000, 0.06, 0, 0, 0.04, 8])\n",
    "#example = [0.9, 1.1, 1.3, 1.5]\n",
    "b = [9, 10, 11, 12]\n",
    "epsilon = 1e-8\n",
    "A = a.reshape(4, 4)\n",
    "#b = np.dot(A, b)\n",
    "print(A, '\\n', 'b =', b)"
   ]
  },
  {
   "cell_type": "code",
   "execution_count": 52,
   "metadata": {},
   "outputs": [],
   "source": [
    "def Func(x, y, z):\n",
    "    return [(x+y+z**3 - 50), (-1)*(x+(y**3)+np.exp(z)-112), (-1)*(np.exp(x)+x*y-x*z-1)]"
   ]
  },
  {
   "cell_type": "code",
   "execution_count": 53,
   "metadata": {},
   "outputs": [],
   "source": [
    "def Jac(x, y, z):\n",
    "    return [[-1, -1, -3 * z**2], [1, 3*y**1, np.exp(z)], [np.exp(x), x, -x]]"
   ]
  },
  {
   "cell_type": "code",
   "execution_count": 54,
   "metadata": {},
   "outputs": [],
   "source": [
    "def MMNewton(vec):\n",
    "    x, y, z = vec[0], vec[1], vec[2]\n",
    "    j = Jac(x, y, z)\n",
    "    d = np.linalg.solve(j, Func(x, y, z))\n",
    "    x_n = d + vec\n",
    "    return x_n"
   ]
  },
  {
   "cell_type": "code",
   "execution_count": 55,
   "metadata": {},
   "outputs": [],
   "source": [
    "def Iter(x_i):\n",
    "    i = 0\n",
    "    x_o = x_i\n",
    "    x_n = MMNewton(x_o)\n",
    "    d = np.linalg.norm(x_o - x_n)\n",
    "    while d > epsilon:\n",
    "        x_n = MMNewton(x_o)\n",
    "        d = np.linalg.norm(x_o - x_n)\n",
    "        x_o = x_n\n",
    "        i += 1\n",
    "    return x_n"
   ]
  },
  {
   "cell_type": "code",
   "execution_count": 56,
   "metadata": {},
   "outputs": [],
   "source": [
    "def Run_through(a, b):\n",
    "    n = len(a)\n",
    "    x = np.zeros(n)\n",
    "    v = np.zeros(n)\n",
    "    u = np.zeros(n)\n",
    "\n",
    "    v[0] = a[0][1] / (-a[0][0])\n",
    "    u[0] = (- b[0]) / (-a[0][0])\n",
    "\n",
    "    for i in range(1, n - 1):\n",
    "        v[i] = a[i][i+1] / (-a[i][i] - a[i][i-1] * v[i-1])\n",
    "        u[i] = (a[i][i-1] * u[i-1] - b[i]) / (-a[i][i] - a[i][i-1] * v[i-1])\n",
    "\n",
    "    v[n-1] = 0\n",
    "    u[n-1] = (a[n-1][n-2] * u[n-2] - b[n-1]) / (-a[n-1][n-1] - a[n-1][n-2] * v[n-2])\n",
    "    x[n-1] = u[n-1]\n",
    "\n",
    "    for i in range(n - 1, 0, -1):\n",
    "        x[i - 1] = (v[i - 1] * x[i] + u[i - 1])\n",
    "    return x"
   ]
  },
  {
   "cell_type": "code",
   "execution_count": 64,
   "metadata": {},
   "outputs": [
    {
     "name": "stdout",
     "output_type": "stream",
     "text": [
      "Решение системы многомерным методом Ньютона:  [12.840999744993054, -29357.497548504092, 30.861909737207178]\n",
      "Решение прогонки:  [0.89476825 1.10142095 1.20736726 1.49396316]\n"
     ]
    }
   ],
   "source": [
    "print ('Решение системы многомерным методом Ньютона: ', list(map(float, (Iter([100, 200, 4])) )) )\n",
    "print('Решение прогонки: ', Run_through(A, b))"
   ]
  }
 ],
 "metadata": {
  "kernelspec": {
   "display_name": "Python 3",
   "language": "python",
   "name": "python3"
  },
  "language_info": {
   "codemirror_mode": {
    "name": "ipython",
    "version": 3
   },
   "file_extension": ".py",
   "mimetype": "text/x-python",
   "name": "python",
   "nbconvert_exporter": "python",
   "pygments_lexer": "ipython3",
   "version": "3.11.5"
  }
 },
 "nbformat": 4,
 "nbformat_minor": 2
}
