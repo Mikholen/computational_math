{
 "cells": [
  {
   "cell_type": "code",
   "execution_count": 1,
   "metadata": {},
   "outputs": [],
   "source": [
    "import matplotlib.pyplot as plt\n",
    "import numpy  as np"
   ]
  },
  {
   "cell_type": "markdown",
   "metadata": {},
   "source": [
    "### Решение СЛАУ. Метод Зейделя. Метод Якоби"
   ]
  },
  {
   "cell_type": "code",
   "execution_count": 128,
   "metadata": {},
   "outputs": [],
   "source": [
    "def Seidel(A, f, eps):\n",
    "    x = np.zeros((len(A), 1))\n",
    "    iter_num = 0\n",
    "    while True:\n",
    "        old_x = x.copy()\n",
    "\n",
    "        for i in range(len(A)):\n",
    "            sum = 0\n",
    "            for j in range(len(A)):\n",
    "                sum += A[i][j] * x[j] * (i != j)\n",
    "\n",
    "            x[i] = (f[i] - sum) / A[i][i]\n",
    "\n",
    "        iter_num += 1\n",
    "        if max(np.absolute(x - old_x)) < eps:\n",
    "            break\n",
    "    return [x, iter_num]"
   ]
  },
  {
   "cell_type": "code",
   "execution_count": 129,
   "metadata": {},
   "outputs": [],
   "source": [
    "def Jacobi(A, f, eps):\n",
    "    x = np.zeros((len(A), 1))\n",
    "    nx = np.ones((len(A), 1))\n",
    "    iter_num = 0\n",
    "\n",
    "    while True:\n",
    "        x = nx.copy()\n",
    "        for i in range(len(A)):\n",
    "            sum = 0\n",
    "            for j in range(len(A)):\n",
    "                sum += A[i][j] * x[j] * (i != j)\n",
    "\n",
    "            nx[i] = (f[i] - sum) / A[i][i]\n",
    "        iter_num += 1\n",
    "        if max(np.absolute(x - nx)) < eps:\n",
    "            break\n",
    "\n",
    "    return [x, iter_num]"
   ]
  },
  {
   "cell_type": "code",
   "execution_count": 152,
   "metadata": {},
   "outputs": [
    {
     "data": {
      "text/plain": [
       "array([[24,  1, -2, -2,  1, -1,  1, -1,  1, -2],\n",
       "       [-2, 28, -2,  1, -1, -2,  0, -1,  0, -2],\n",
       "       [ 0, -1, 23, -2,  1, -2,  0, -2, -1,  0],\n",
       "       [ 0, -2,  1, 27, -1, -1,  1,  0, -2,  0],\n",
       "       [-1, -1, -1,  1, 29, -1,  0, -1, -1, -2],\n",
       "       [-2, -1, -2, -2, -1, 21,  1,  0, -1, -2],\n",
       "       [ 0,  1,  1,  0, -1, -1, 21,  1, -2, -2],\n",
       "       [-1,  1, -2,  0, -2, -2, -1, 28, -1,  0],\n",
       "       [ 1, -2, -2, -1,  1,  0,  1,  1, 27, -1],\n",
       "       [-2,  0, -1,  1,  1,  0,  1, -1, -2, 30]])"
      ]
     },
     "execution_count": 152,
     "metadata": {},
     "output_type": "execute_result"
    }
   ],
   "source": [
    "n = 10\n",
    "epsilon = 0.001\n",
    "np.random.seed(1)\n",
    "B = np.random.randint(-2, 2, (n, n))\n",
    "for i in range(n):\n",
    "    B[i][i] += np.random.randint(20, 30)\n",
    "B"
   ]
  },
  {
   "cell_type": "code",
   "execution_count": 153,
   "metadata": {},
   "outputs": [
    {
     "data": {
      "text/plain": [
       "array([[ -5],\n",
       "       [  1],\n",
       "       [  2],\n",
       "       [ -2],\n",
       "       [ -1],\n",
       "       [  1],\n",
       "       [ -5],\n",
       "       [  5],\n",
       "       [-10],\n",
       "       [  6]])"
      ]
     },
     "execution_count": 153,
     "metadata": {},
     "output_type": "execute_result"
    }
   ],
   "source": [
    "np.random.seed(1)\n",
    "x_1 = np.random.randint(-10, 10, (n, 1))\n",
    "x_1"
   ]
  },
  {
   "cell_type": "code",
   "execution_count": 154,
   "metadata": {},
   "outputs": [
    {
     "data": {
      "text/plain": [
       "array([[-153],\n",
       "       [  14],\n",
       "       [  46],\n",
       "       [ -39],\n",
       "       [ -37],\n",
       "       [  24],\n",
       "       [ -89],\n",
       "       [ 157],\n",
       "       [-286],\n",
       "       [ 195]])"
      ]
     },
     "execution_count": 154,
     "metadata": {},
     "output_type": "execute_result"
    }
   ],
   "source": [
    "f = np.dot(B, x_1)\n",
    "f"
   ]
  },
  {
   "cell_type": "code",
   "execution_count": 155,
   "metadata": {},
   "outputs": [
    {
     "name": "stdout",
     "output_type": "stream",
     "text": [
      "Result (Jacoby method):\n",
      "[[-4.99988137]\n",
      " [ 1.00019241]\n",
      " [ 2.00024138]\n",
      " [-1.99989552]\n",
      " [-0.99986726]\n",
      " [ 1.00020144]\n",
      " [-4.99998038]\n",
      " [ 5.00016744]\n",
      " [-9.99994231]\n",
      " [ 6.00005228]]\n",
      "Accuracy: \n",
      "[[1.18633496e-04]\n",
      " [1.92406114e-04]\n",
      " [2.41380974e-04]\n",
      " [1.04480825e-04]\n",
      " [1.32737940e-04]\n",
      " [2.01444264e-04]\n",
      " [1.96226719e-05]\n",
      " [1.67438151e-04]\n",
      " [5.76911290e-05]\n",
      " [5.22762235e-05]]\n"
     ]
    }
   ],
   "source": [
    "print('Result (Jacoby method):')\n",
    "print(Jacobi(B, f, epsilon)[0])\n",
    "print('Accuracy: ')\n",
    "print(abs(Jacobi(B, f, epsilon)[0] - x_1))"
   ]
  },
  {
   "cell_type": "code",
   "execution_count": 156,
   "metadata": {},
   "outputs": [
    {
     "name": "stdout",
     "output_type": "stream",
     "text": [
      "Result (Seidel method):\n",
      "[[ -5.00000341]\n",
      " [  0.99999546]\n",
      " [  1.99999688]\n",
      " [ -2.00000175]\n",
      " [ -1.00000131]\n",
      " [  0.99999894]\n",
      " [ -5.00000013]\n",
      " [  4.99999939]\n",
      " [-10.00000043]\n",
      " [  5.99999973]]\n",
      "Accuracy: \n",
      "[[3.41110763e-06]\n",
      " [4.54262488e-06]\n",
      " [3.11758492e-06]\n",
      " [1.75320481e-06]\n",
      " [1.30995075e-06]\n",
      " [1.05742060e-06]\n",
      " [1.32824177e-07]\n",
      " [6.12854665e-07]\n",
      " [4.26383663e-07]\n",
      " [2.73648081e-07]]\n"
     ]
    }
   ],
   "source": [
    "print('Result (Seidel method):')\n",
    "print(Seidel(B, f, epsilon)[0])\n",
    "print('Accuracy: ')\n",
    "print(abs(Seidel(B, f, epsilon)[0] - x_1))"
   ]
  }
 ],
 "metadata": {
  "kernelspec": {
   "display_name": "Python 3",
   "language": "python",
   "name": "python3"
  },
  "language_info": {
   "codemirror_mode": {
    "name": "ipython",
    "version": 3
   },
   "file_extension": ".py",
   "mimetype": "text/x-python",
   "name": "python",
   "nbconvert_exporter": "python",
   "pygments_lexer": "ipython3",
   "version": "3.11.5"
  },
  "orig_nbformat": 4
 },
 "nbformat": 4,
 "nbformat_minor": 2
}
